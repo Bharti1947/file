{
  "nbformat": 4,
  "nbformat_minor": 0,
  "metadata": {
    "colab": {
      "provenance": []
    },
    "kernelspec": {
      "name": "python3",
      "display_name": "Python 3"
    },
    "language_info": {
      "name": "python"
    }
  },
  "cells": [
    {
      "cell_type": "markdown",
      "source": [
        "*1. Discuss the scenarios where multithreading is preferable to multiprocessing and scenarios where\n",
        "multiprocessing is a better choice.*"
      ],
      "metadata": {
        "id": "qz9D8lDylS-7"
      }
    },
    {
      "cell_type": "markdown",
      "source": [
        "**Multithreading**"
      ],
      "metadata": {
        "id": "juEvYW_al03-"
      }
    },
    {
      "cell_type": "code",
      "source": [
        "# I/O-Bound Tasks: Preferable for tasks that spend a lot of time waiting for external resources (e.g., file I/O, network requests).\n",
        "# GUI applications: When creating desktop applications, multithreading helps in keeping the user interface responsive while handling background tasks."
      ],
      "metadata": {
        "id": "rDcisOWxlb6z"
      },
      "execution_count": null,
      "outputs": []
    },
    {
      "cell_type": "markdown",
      "source": [
        "**Multiprocessing**"
      ],
      "metadata": {
        "id": "oLn9sjy4m_k8"
      }
    },
    {
      "cell_type": "code",
      "source": [
        "#CPU-bound tasks: Tasks that require heavy computation are better suited for multiprocessing. Each process can use its own CPU core, making the work faster by distributing it across multiple cores.\n",
        "#Parallel processing: In tasks like training machine learning models, multiprocessing is preferred since separate processes don’t need to share memory and can fully utilize system resources."
      ],
      "metadata": {
        "id": "4NnWW5HJnKO2"
      },
      "execution_count": null,
      "outputs": []
    },
    {
      "cell_type": "markdown",
      "source": [
        "*2.  Describe what a process pool is and how it helps in managing multiple processes efficiently.*"
      ],
      "metadata": {
        "id": "PiBmBgB-n6Np"
      }
    },
    {
      "cell_type": "code",
      "execution_count": null,
      "metadata": {
        "id": "5c72bc76"
      },
      "outputs": [],
      "source": [
        "# A process pool is a collection of pre-instantiated worker processes that are ready to execute tasks. It helps in managing multiple processes efficiently by:\n",
        "# 1.Reusing Processes: Instead of creating a new process for each task, a process pool reuses existing processes, reducing the overhead of process creation and termination.\n",
        "# 2.Load Balancing: It automatically distributes tasks among the available processes, ensuring efficient utilization of CPU cores.\n",
        "# 3.Parallel Execution: Tasks can run in parallel across multiple processes, speeding up execution, especially for CPU-bound tasks.\n",
        "# 4.Simplified Management: The pool handles the lifecycle of processes, making it easier to manage concurrency without manually handling process creation and termination."
      ]
    },
    {
      "cell_type": "markdown",
      "source": [
        "*3. Explain what multiprocessing is and why it is used in Python programs.*"
      ],
      "metadata": {
        "id": "6xtCQgW0pDs2"
      }
    },
    {
      "cell_type": "code",
      "source": [
        "# Multiprocessing is a technique that allows a program to run multiple processes simultaneously, each with its own memory space and system resources.\n",
        "# Used of Multiprocessing in python are :-\n",
        "#(a) Bypassing the Global Interpreter Lock (GIL): In Python, the GIL restricts threads from running multiple CPU-bound tasks in parallel.\n",
        "#(b) Improve Performance: By distributing work across multiple processes, multiprocessing can significantly speed up computation-heavy tasks."
      ],
      "metadata": {
        "id": "KAc1DWWCpB5R"
      },
      "execution_count": null,
      "outputs": []
    },
    {
      "cell_type": "markdown",
      "source": [
        "*4. Write a Python program using multithreading where one thread adds numbers to a list, and another\n",
        "thread removes numbers from the list. Implement a mechanism to avoid race conditions using\n",
        "threading.Lock.*"
      ],
      "metadata": {
        "id": "Soy4Kx72q0KO"
      }
    },
    {
      "cell_type": "code",
      "source": [
        "import threading\n",
        "import time\n",
        "\n",
        "shared = []\n",
        "lock = threading.Lock()\n",
        "\n",
        "# Function for adding numbers to the list\n",
        "def add_list():\n",
        "    for i in range(10):\n",
        "        with lock:\n",
        "            shared.append(i)\n",
        "            print(f\"Added {i} to the list.\")\n",
        "        time.sleep(1)\n",
        "\n",
        "# Function for removing numbers from the list\n",
        "def remove_list():\n",
        "    for i in range(10):\n",
        "        time.sleep(1.5)\n",
        "        with lock:\n",
        "            if shared:\n",
        "                removed = shared.pop(0)\n",
        "                print(f\"Removed {removed} from the list.\")\n",
        "\n",
        "# Create two threads for adding and removing\n",
        "thread1 = threading.Thread(target=add_list)\n",
        "thread2 = threading.Thread(target=remove_list)\n",
        "\n",
        "# Start both threads\n",
        "thread1.start()\n",
        "thread2.start()\n",
        "\n",
        "# Wait for both threads to finish\n",
        "thread1.join()\n",
        "thread2.join()\n",
        "\n",
        "print(\"Final list:\", shared)\n"
      ],
      "metadata": {
        "colab": {
          "base_uri": "https://localhost:8080/"
        },
        "id": "zCeHEwRyrB3l",
        "outputId": "e6b99c1c-f28b-49f2-99ee-61a32bc38b66"
      },
      "execution_count": 2,
      "outputs": [
        {
          "output_type": "stream",
          "name": "stdout",
          "text": [
            "Added 0 to the list.\n",
            "Added 1 to the list.\n",
            "Removed 0 from the list.\n",
            "Added 2 to the list.\n",
            "Added 3 to the list.\n",
            "Removed 1 from the list.\n",
            "Added 4 to the list.\n",
            "Removed 2 from the list.\n",
            "Added 5 to the list.\n",
            "Added 6 to the list.\n",
            "Removed 3 from the list.\n",
            "Added 7 to the list.\n",
            "Removed 4 from the list.\n",
            "Added 8 to the list.\n",
            "Added 9 to the list.\n",
            "Removed 5 from the list.\n",
            "Removed 6 from the list.\n",
            "Removed 7 from the list.\n",
            "Removed 8 from the list.\n",
            "Removed 9 from the list.\n",
            "Final list: []\n"
          ]
        }
      ]
    },
    {
      "cell_type": "markdown",
      "source": [
        "*5.  Describe the methods and tools available in Python for safely sharing data between threads and\n",
        "processes.*"
      ],
      "metadata": {
        "id": "v37erwDrs_cG"
      }
    },
    {
      "cell_type": "code",
      "execution_count": null,
      "metadata": {
        "id": "17a0ac90"
      },
      "outputs": [],
      "source": [
        "# For Threads:\n",
        "# threading.Lock: Ensures that only one thread can access a shared resource at a time, preventing race conditions.\n",
        "# threading.RLock: A reentrant lock that allows a thread to acquire the same lock multiple times.\n",
        "# threading.Semaphore: Controls access to a shared resource by a set number of threads.\n",
        "# threading.Event: Used for signaling between threads.\n",
        "\n",
        "# For Processes:\n",
        "# multiprocessing.Queue: A thread- and process-safe FIFO queue that allows safe data sharing between processes.\n",
        "# multiprocessing.Pipe: A two-way communication channel between processes.\n",
        "# multiprocessing.Manager: Provides a way to create shared data structures like lists, dictionaries, etc., that can be safely shared between processes.\n",
        "# multiprocessing.Value and Array: Allow sharing of simple data types and arrays between processes, with automatic synchronization."
      ]
    },
    {
      "cell_type": "markdown",
      "source": [
        "*6.  Discuss why it’s crucial to handle exceptions in concurrent programs and the techniques available for\n",
        "doing so.*"
      ],
      "metadata": {
        "id": "wJAOAxEUu9HM"
      }
    },
    {
      "cell_type": "code",
      "source": [
        "#Handling exceptions in concurrent programs is crucial to:\n",
        "#Prevent Crashes: Unhandled exceptions can cause the entire program to crash.\n",
        "#Maintain Data Integrity: Ensures that shared resources are not left in an inconsistent state.\n",
        "#Ensure Resource Cleanup: Properly releases resources to avoid leaks.\n",
        "\n",
        "#Techniques for Handling Exceptions:-\n",
        "# try-except Blocks: Wrap code in try blocks and handle exceptions in except blocks.\n",
        "# Process-Specific Handling: Use mechanisms like Queue to capture exceptions from multiprocessing processes.\n",
        "# Logging: Implement logging within exception handlers to record errors for debugging and monitoring.\n",
        "# Graceful Shutdown: Ensure proper cleanup of resources and graceful shutdown of threads or processes when an exception occurs.\n"
      ],
      "metadata": {
        "id": "WIQ6K-dlvlXN"
      },
      "execution_count": null,
      "outputs": []
    },
    {
      "cell_type": "markdown",
      "source": [
        "*7.  Create a program that uses a thread pool to calculate the factorial of numbers from 1 to 10 concurrently.\n",
        "Use concurrent.futures.ThreadPoolExecutor to manage the threads.*"
      ],
      "metadata": {
        "id": "ZY3w9YS2x3oO"
      }
    },
    {
      "cell_type": "code",
      "execution_count": 8,
      "metadata": {
        "id": "e73d4102",
        "outputId": "be7f6005-5b76-4289-e809-57cc24b43650",
        "colab": {
          "base_uri": "https://localhost:8080/"
        }
      },
      "outputs": [
        {
          "output_type": "stream",
          "name": "stdout",
          "text": [
            "Factorial of 1 is 1\n",
            "Factorial of 2 is 2\n",
            "Factorial of 3 is 6\n",
            "Factorial of 4 is 24\n",
            "Factorial of 5 is 120\n",
            "Factorial of 6 is 720\n",
            "Factorial of 7 is 5040\n",
            "Factorial of 8 is 40320\n",
            "Factorial of 9 is 362880\n",
            "Factorial of 10 is 3628800\n"
          ]
        }
      ],
      "source": [
        "import concurrent.futures\n",
        "import math\n",
        "\n",
        "def factorial(n):\n",
        "    return math.factorial(n)\n",
        "\n",
        "numbers = list(range(1, 11))\n",
        "\n",
        "def main():\n",
        "    # Create a ThreadPoolExecutor\n",
        "    with concurrent.futures.ThreadPoolExecutor() as executor:\n",
        "        # Map the factorial function to the numbers\n",
        "        results = list(executor.map(factorial, numbers))\n",
        "\n",
        "    # Print results\n",
        "    for num, result in zip(numbers, results):\n",
        "        print(f\"Factorial of {num} is {result}\")\n",
        "\n",
        "if __name__ == \"__main__\":\n",
        "    main()\n"
      ]
    },
    {
      "cell_type": "markdown",
      "source": [
        "*8.  Create a Python program that uses multiprocessing.Pool to compute the square of numbers from 1 to 10 in\n",
        "parallel. Measure the time taken to perform this computation using a pool of different sizes (e.g., 2, 4, 8\n",
        "processes).*"
      ],
      "metadata": {
        "id": "ynvcRMY4ynSu"
      }
    },
    {
      "cell_type": "code",
      "source": [
        "import multiprocessing\n",
        "import time\n",
        "def square(n):\n",
        "    return n * n\n",
        "\n",
        "def measure_time(pool_size):\n",
        "    numbers = list(range(1, 11))\n",
        "\n",
        "    start_time = time.time()\n",
        "\n",
        "    with multiprocessing.Pool(processes=pool_size) as pool:\n",
        "        results = pool.map(square, numbers)\n",
        "\n",
        "    end_time = time.time()\n",
        "\n",
        "    print(f\"Pool size: {pool_size}, Time taken: {end_time - start_time:.4f} seconds\")\n",
        "    print(f\"Results: {results}\")\n",
        "\n",
        "# function to test different pool sizes\n",
        "def main():\n",
        "    pool_sizes = [2, 4, 8]\n",
        "\n",
        "    for size in pool_sizes:\n",
        "        measure_time(size)\n",
        "\n",
        "if __name__ == \"__main__\":\n",
        "    main()\n"
      ],
      "metadata": {
        "colab": {
          "base_uri": "https://localhost:8080/"
        },
        "id": "-j5hBVgRygH_",
        "outputId": "a93229d7-beaf-4520-c3df-c6ff0962cf66"
      },
      "execution_count": 10,
      "outputs": [
        {
          "output_type": "stream",
          "name": "stdout",
          "text": [
            "Pool size: 2, Time taken: 0.0243 seconds\n",
            "Results: [1, 4, 9, 16, 25, 36, 49, 64, 81, 100]\n",
            "Pool size: 4, Time taken: 0.0471 seconds\n",
            "Results: [1, 4, 9, 16, 25, 36, 49, 64, 81, 100]\n",
            "Pool size: 8, Time taken: 0.0843 seconds\n",
            "Results: [1, 4, 9, 16, 25, 36, 49, 64, 81, 100]\n"
          ]
        }
      ]
    },
    {
      "cell_type": "code",
      "source": [],
      "metadata": {
        "id": "RzVmPa6rzGM4"
      },
      "execution_count": null,
      "outputs": []
    }
  ]
}